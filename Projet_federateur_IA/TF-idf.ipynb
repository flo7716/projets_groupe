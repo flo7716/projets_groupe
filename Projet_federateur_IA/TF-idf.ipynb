{
 "cells": [
  {
   "cell_type": "code",
   "execution_count": 34,
   "metadata": {},
   "outputs": [],
   "source": [
    "#Florian ANDRE\n",
    "#3B DIA\n",
    "#BIn312 Data Mining\n",
    "\n",
    "import os, sys\n",
    "\n",
    "import requests\n",
    "from bs4 import BeautifulSoup\n",
    "import pandas as pd\n",
    "\n",
    "import string\n",
    "import nltk\n",
    "from nltk.corpus import stopwords\n",
    "from nltk.tokenize import sent_tokenize, word_tokenize\n",
    "\n",
    "from sklearn.feature_extraction.text import TfidfVectorizer, CountVectorizer\n",
    "from sklearn.preprocessing import normalize\n",
    "from sklearn.metrics.pairwise import cosine_similarity\n",
    "\n",
    "import numpy as np\n",
    "import re\n",
    "\n"
   ]
  },
  {
   "cell_type": "code",
   "execution_count": 35,
   "metadata": {},
   "outputs": [],
   "source": [
    "def clean_filename(url):\n",
    "    return re.sub(r'[\\/:*?\"<>|]', '_', url)"
   ]
  },
  {
   "cell_type": "code",
   "execution_count": 36,
   "metadata": {},
   "outputs": [
    {
     "name": "stderr",
     "output_type": "stream",
     "text": [
      "[nltk_data] Downloading package punkt to\n",
      "[nltk_data]     C:\\Users\\flori\\AppData\\Roaming\\nltk_data...\n",
      "[nltk_data]   Package punkt is already up-to-date!\n",
      "[nltk_data] Downloading package stopwords to\n",
      "[nltk_data]     C:\\Users\\flori\\AppData\\Roaming\\nltk_data...\n",
      "[nltk_data]   Package stopwords is already up-to-date!\n"
     ]
    },
    {
     "name": "stdout",
     "output_type": "stream",
     "text": [
      "['profile sections tv featured nbc follow nbc news new alerts time hype around drones may finally starting deliver', 'drone deliveries first touted amazon decade ago slowly taking parts u.s. thursday matternet drone delivery startup launched service silicon valley', '“ years advancing drone delivery healthcare ’ excited launch first home delivery operation heart silicon valley ” said andreas raptopoulos founder ceo matternet blog post', '“ ’ entering next phase scale drone delivery — building new layer ultra-efficient logistics infrastructure become essential utility every household. ” announcement adds signs growth drone delivery', 'fort worth texas recently became first major city united states offer commercial drone deliveries ’ used deliver groceries walmart', 'college station texas amazon ’ drone delivery service become common enough residents see service noisy nuisance', 'recent faa approval company seems set expand drone delivery operations across city beyond', 'experts say many obstacles drone delivery notably technology regulations hurdled', '“ think decade slow start drone delivery seems accelerating technological capabilities well policy regulatory environment united states ” costa samaras director carnegie mellon ’ scott institute energy innovation told nbc news', 'samaras said drones powered electricity mainly used transport lightweight time-sensitive deliverables medicine groceries', '’ attractive innovation said deliveries still done combustion-engine cars pollutive inefficient', '“ forgot something store need something quick getting delivered drone easier faster taking vehicle ’ much better climate ” said', 'samaras said research indicated drone delivery compared fossil-fuel truck delivery consumes 90 less energy per package', 'regulatory framework self-piloting technology recently caught hype', 'federal aviation administration said statement focused permitting beyond visual line sight bvlos operations would allow drones fly without needing pilot stay within sight', 'zipline world ’ largest drone delivery service among companies received permission several states', 'company plans go nationwide drone delivery 2026', '“ lot risks retired ’ super excited much progress ’ going able make next years lot uncertainty behind us ” eric watson engineering lead zipline told nbc news', 'watson said company hopes aerially deliver tens thousands packages per day within next years across country already deliveries arkansas utah plans expand dallas later year', 'spokesperson amazon ’ prime air drone-delivery program told nbc news hopes delivering 500 million packages per year end decade', 'faa told nbc news currently 383,000 drones registered commercial purposes', '2028 agency forecasts number could balloon 3 million', 'yanfeng ouyang transportation engineering professor university illinois urbana-champaign agrees technology close mass availability hopes potential negative consequences curtailed', '“ ’ right around corner see rapid development next year two ” ouyang said', '“ several challenges still need addressed ” added potential expanded surveillance state well whether communities ok large number drones whizzing overhead times', '“ optimistic ’ think sufficient regulations yet think government play significant role moving forward ” ouyang said', 'mike gagliardi researcher nbc news network desk', '© 2024 nbc universal']\n"
     ]
    },
    {
     "name": "stderr",
     "output_type": "stream",
     "text": [
      "[nltk_data] Downloading package punkt to\n",
      "[nltk_data]     C:\\Users\\flori\\AppData\\Roaming\\nltk_data...\n",
      "[nltk_data]   Package punkt is already up-to-date!\n",
      "[nltk_data] Downloading package stopwords to\n",
      "[nltk_data]     C:\\Users\\flori\\AppData\\Roaming\\nltk_data...\n",
      "[nltk_data]   Package stopwords is already up-to-date!\n"
     ]
    },
    {
     "name": "stdout",
     "output_type": "stream",
     "text": [
      "['d.c. soon eyes sky', 'metropolitan police department start using drones limited situations try protect residents violent crime', 'comes mayor muriel bowser adds hundreds closed-circuit tv cameras license plate readers', '📺 watch news4 stream nbc4 newscasts free right right', 'taking base near frederick douglass memorial bridge falcon 1 ready action', 'mpd unveiled 6 million chopper press event monday', 'pilot called helicopter “ game changer ” mapping technology infrared cameras help car chases', 'mpd ’ air fleet includes five drones', 'chief police pamela smith said drones used patrol operations used situations including barricades crowd management missing persons cases major crash reconstruction', '“ using artificial intelligence using facial recognition drones yet ” said', 'bowser said d.c. ’ newly approved budget includes funding 200 new cc tv cameras nearly 50 license-plate readers added next year', 'past year d.c. helicopter assisted 76 arrests including carjackings shootings homicides mayor said', 'washington d.c. maryland virginia local news events information aclu ’ executive director d.c. raised red flags plan drones', '`` growing use surveillance technology law enforcement agencies without limits transparency accountability deeply concerning', \"drones powerful novel surveillance technology district 's police drone expansion simply sufficient guardrails ensure privacy security ” monica hopkins said statement part\"]\n"
     ]
    },
    {
     "name": "stderr",
     "output_type": "stream",
     "text": [
      "[nltk_data] Downloading package punkt to\n",
      "[nltk_data]     C:\\Users\\flori\\AppData\\Roaming\\nltk_data...\n",
      "[nltk_data]   Package punkt is already up-to-date!\n",
      "[nltk_data] Downloading package stopwords to\n",
      "[nltk_data]     C:\\Users\\flori\\AppData\\Roaming\\nltk_data...\n",
      "[nltk_data]   Package stopwords is already up-to-date!\n",
      "[nltk_data] Downloading package punkt to\n",
      "[nltk_data]     C:\\Users\\flori\\AppData\\Roaming\\nltk_data...\n",
      "[nltk_data]   Package punkt is already up-to-date!\n",
      "[nltk_data] Downloading package stopwords to\n",
      "[nltk_data]     C:\\Users\\flori\\AppData\\Roaming\\nltk_data...\n",
      "[nltk_data]   Package stopwords is already up-to-date!\n"
     ]
    },
    {
     "name": "stdout",
     "output_type": "stream",
     "text": [
      "['get monthly newsletter directly inbox', 'ikea thrilled announce next phase drone technology upgraded ai-powered system capable operating alongside co-workers around clock', 'advanced system integrated fulfilment units including distribution centres run continuously', 'successful year rigorous testing distribution centre winterslag belgium ikea ready deploy drones locations next year', 'ikea thrilled announce next phase drone technology upgraded ai-powered system capable operating alongside co-workers around clock', 'advanced system integrated fulfilment units including distribution centres run continuously', 'successful year rigorous testing distribution centre winterslag belgium ikea ready deploy drones locations next year', '– parag parekh global cdo ikea retail ingka group next phase boost operational efficiency automating physically demanding time-consuming task stock inventory otherwise handled employees', 'shift free co-workers enhance customer experience also provides ikea faster precise accurate stock management', '2021 ikea launched innovative collaboration verity provider ai robotics develop fully autonomous drone solution warehouses', 'first drone took flight ikea switzerland today 250 drones operate across 73 locations nine countries', 'achievement major milestone ikea ongoing commitment innovation operational excellence', 'elevating co-worker experience implementation 24/7 operational drones transforming ikea inventory management significantly boosting operational efficiency whilst also enhancing co-worker productivity', 'new system enables simultaneous inventory checks eliminating need block aisles disrupt workflows', 'co-workers take immediate actions based real-time data drones significantly increasing product accuracy decreasing workload', 'tommy niemierowski fulfilment project implementation manager ikea belgium explains “ implementing solution truly makes difference warehouses immensely rewarding experience', 'installation process relatively straightforward reward monumental facilitates collaboration amongst various stakeholders. ” integrating 24/7 operational drones ikea warehouses great step inventory management also boost employee well-being', 'taking physically strenuous task inventory checks drones reduce ergonomic strain co-workers allowing focus lighter interesting tasks', 'report new york times highlights warehouse drones help “ reduce repetitive strain injury risks associated manual labor logistics fulfillment operations ” giving workers healthier safer work environment', 'shift helps co-workers avoid physical toll repetitive tasks long hours feet ultimately improving job satisfaction long-term health', 'addition ikea prioritises safety everything', 'newly tested drones designed specifically distribution centres', 'system ’ ai software also fine-tuned safety features ensure facilities operate safely efficiently', 'advanced navigation privacy according parag parekh global cdo ikea retail ingka group ‘ ’ ikea drones use artificial intelligence-based algorithm identify photograph product storage locations', 'addition drone flights pre-scheduled utilizing custom indoor positioning system navigate higher levels storage locations levels 3', 'equipped obstacle detection capabilities drones avoid collisions rerouting paths. ’ ’ according company solution complies data privacy assessment requirements including safety integrity privacy co-workers', 'successful test distribution centre winterslag ikea looking expand solution europe north america starting distribution centre perryville ikea us installation started summer', 'additionally ikea working upgrading solution new functionalities', 'future developments include exploring unit loads rack inspection functionalities well improving analytics insights component solution', 'marcus baumgartner head fulfilment core services ikea retail ingka group explains ‘ ’ continue embrace benefits technology innovation goal create better experience customers ergonomic workplace co-workers. ’ ’ claes lindgren global category area manager logistics services inter ikea group agrees marcus “ drones good example achieve win-win areas simplifying processes logistics units hence ensuring better inventory integrity leading better customer experience. ” ikea continues journey revolutionize operations explore cutting-edge technology—just one many steps toward creating customer experiences define stores tomorrow', 'ingka group ikea retail operations 31 markets ingka group largest ikea retailer represents 90 ikea retail sales', 'strategic partner develop innovate ikea business help define common ikea strategies', 'ingka group owns operates ikea sales channels franchise agreements inter ikea systems b.v', 'three business areas ikea retail ingka investments ingka centres', 'read www.ingka.com', 'information journalists media professionals contact us press.office ingka.com calling +46 70 993 6376', 'ikea elevating human ai-powered drone collaboration ikea elevating human ai-powered drone collaboration_several co-workers subscribe receive news directly inbox', 'hej', 'thank interest ingka group ikea', 'inserting contact details clicking subscribe button consent receiving newsletters communication ingka group email address described privacy notice.\\u200b receive email shortly please check junk email folder.\\u200b link copied secure focus matters regularly conduct double materiality assessment incorporates stakeholder input research', 'list find material topics identified latest assessment four better movements form structure report', 'filling form clicking ‘ send ’ confirm read understood ingka.com privacy notice']\n",
      "['drones raced clock delft university technology ’ ‘ cyber zoo ’ test performance neural-network-based ai control systems planned next-generation space missions', 'research – undertaken esa ’ advanced concepts team together micro air vehicle laboratory mavlab tudelft – detailed latest issue science robotics', '“ long-term collaboration ’ looking use trainable neural networks autonomous oversight kinds demanding spacecraft manoeuvres interplanetary transfers surface landings dockings ” notes dario izzo scientific coordinator esa ’ act', '“ space every onboard resource must utilised efficiently possible – including propellant available energy computing resources often time', 'neural network approach could enable optimal onboard operations boosting mission autonomy robustness', 'needed way test real world ahead planning actual space missions', '“ ’ settled drone racing ideal gym environment test end-to-end neural architectures real robotic platforms increase confidence future use space. ” drones competing achieve best time set course within cyber zoo tu delft 10x10 test area maintained university ’ faculty aerospace engineering esa ’ partner research', 'human-steered ‘ micro air vehicle ’ quadcopters alternated autonomous counterparts neural networks trained various ways', '“ traditional way spacecraft manoeuvres work planned detail ground uploaded spacecraft carried ” explains act young graduate trainee sebastien origer', '“ essentially comes mission guidance control guidance part occurs ground control part undertaken spacecraft. ” space environment inherently unpredictable however potential kinds unforeseen factors noise gravitational variations atmospheric turbulence planetary bodies turn shaped differently on-ground modelling', 'whenever spacecraft deviates planned path whatever reason control system works return set profile', 'problem approach quite costly resource terms requiring whole set brute force corrections', 'sebastien adds “ alternative end-to-end guidance control networks g c nets approach involves work taking place spacecraft', 'instead sticking single set course spacecraft continuously replans optimal trajectory starting current position finds proves much efficient. ” computer simulations neural nets composed interlinked neurons – mimicking setup animal brains – performed well trained using ‘ behavioural cloning ’ based prolonged exposure expert examples', 'came question build trust approach real world', 'point researchers turned drones', '“ ’ quite lot synergies drones spacecraft although dynamics involved flying drones much faster noisier ” comments dario', '“ comes racing obviously main scarce resource time use substitute variables space mission might prioritise propellant mass', 'satellite cpus quite constrained g cnets surprisingly modest perhaps storing 30 000 parameters memory done using hundred kilobytes involving less 360 neurons all. ” order optimal g cnet able send commands directly actuators', 'spacecraft thrusters case drones propellers', '“ main challenge tackled bringing g cnets drones reality gap actuators simulation reality ” says christophe de wagter principal investigator tu delft', '“ deal identifying reality gap flying teaching neural network deal', 'example propellers give less thrust expected drone notice via accelerometers', 'neural network regenerate commands follow new optimal path. ” “ ’ whole academic community drone racing comes winning races ” says sebastien', '“ g cnets approach use drones represents way build trust develop solid theoretical framework establish safety bounds ahead planning actual space mission demonstrator. ” thank liking already liked page like']\n"
     ]
    },
    {
     "name": "stderr",
     "output_type": "stream",
     "text": [
      "[nltk_data] Downloading package punkt to\n",
      "[nltk_data]     C:\\Users\\flori\\AppData\\Roaming\\nltk_data...\n",
      "[nltk_data]   Package punkt is already up-to-date!\n",
      "[nltk_data] Downloading package stopwords to\n",
      "[nltk_data]     C:\\Users\\flori\\AppData\\Roaming\\nltk_data...\n",
      "[nltk_data]   Package stopwords is already up-to-date!\n"
     ]
    },
    {
     "name": "stdout",
     "output_type": "stream",
     "text": [
      "[\"friday october 18 2024 12:24 pm paris harris warns voters 'consequences trump gets back oval office 'this going tight race nevada grapples housing crisis central theme presidential campaign biden set make farewell trip germany donald trump 's irresponsible headlong rush french mass rape trial 'you 're pleading accident repeated six times\", \"cyclist killed paris 'this case stirring great deal emotion among people travel bike 'we spent lot\", \"two years denial led france 's budget crisis northern france male cheerleaders taunt sexism pompoms netanyahu says killing hamas chief sinwar marks 'beginning end gaza war residents lebanese christian village want stay 'we war hezbollah dragged us european union wants toughen fight illegal immigration death yahya sinwar hamas 's military political leader architect october 7 attack video french parliament building floods storm kirk russia 's 'illegal spies\", 'hezbollah conflict israel past 40 years', \"france 's new pm michel barnier 's political positions\", \"donald trump 's irresponsible headlong rush 'how conceive relations regime locks women\", \"trump appears extremist ever final campaign stretch 'macron 's lack budgetary control turned adventure adventurism philippe charlier exhibition curator 'the zombie relevant figure today paris musée du quai branly reveals legend haitian undead le monde 's concert picks house love fiesta des suds sixun les emancipéés spiral dive surrealism centre pompidou gabriel attal explained flying vehicles often used 'tourists wanting take pictures banned french air defense staff would 'quickly intercept operators would arrested\", 'le monde afp 1 min read french security forces guarding sites set used paris olympics intercepting average six drones per day prime minister gabriel attal said tuesday july 23', \"miniature flyers sometimes operated `` individuals maybe tourists wanting take pictures '' attal said\", \"`` 's 's important remind people rules\", \"'s ban flying drones '' added visit event 's drone defense hub velizy-villacoublay air base outside paris\", \"`` systems place allow us quickly intercept drones arrest operators '' attal said\", \"`` ca n't allow anything slip past us ''\", 'highlighted several incidents around olympic village sunday', \"according member attal 's team communications chief brazilian delegation apprehended operating drone\", \"`` unauthorised drone jammed '' said stephane groen france 's general charge air defence attal visited control room aerial vehicle spotted stade de france stadium\", 'defenders job particularly tricky must avoid remote vehicles falling sporting event underway', \"nevertheless `` doubt always jam '' drone defense minister sebastien lecornu said\", 'well anti-drone defenses forms anti-aircraft defense place around olympic sites', 'french first airspace 150-kilometer radius around paris completely closed friday evening opening ceremony', 'around 18,000 french troops deployed secure olympics 11,000 paris region', 'le monde afp lecture du monde en cours sur un autre appareil', 'vous pouvez lire le monde sur un seul appareil à la fois ce message ’ affichera sur l ’ autre appareil', 'parce qu ’ une autre personne ou vous est en train de lire le monde avec ce compte sur un autre appareil', 'vous ne pouvez lire le monde que sur un seul appareil à la fois ordinateur téléphone ou tablette', 'comment ne plus voir ce message', 'en cliquant sur « continuer à lire ici » et en vous assurant que vous êtes la seule personne à consulter le monde avec ce compte', 'que se passera-t-il si vous continuez à lire ici', 'ce message ’ affichera sur l ’ autre appareil', 'ce dernier restera connecté avec ce compte', 'a-t-il ’ autres limites', 'non', 'vous pouvez vous connecter avec votre compte sur autant ’ appareils que vous le souhaitez mais en les utilisant à des moments différents', 'vous ignorez qui est l ’ autre personne', 'nous vous conseillons de modifier votre mot de passe', 'lecture restreinte votre abonnement n ’ autorise pas la lecture de cet article pour plus ’ informations merci de contacter notre service commercial', 'subscribe help support work entire newsroom', 'opted refuse use cookies browsing website including personalized advertising cookies', 'content website work 530 journalists deliver high-quality reliable comprehensive news innovative online services every day', 'work supported additional revenue advertising subscriptions', 'already subscriber', 'sign subscription le monde english follow le monde']\n"
     ]
    },
    {
     "name": "stderr",
     "output_type": "stream",
     "text": [
      "[nltk_data] Downloading package punkt to\n",
      "[nltk_data]     C:\\Users\\flori\\AppData\\Roaming\\nltk_data...\n",
      "[nltk_data]   Package punkt is already up-to-date!\n",
      "[nltk_data] Downloading package stopwords to\n",
      "[nltk_data]     C:\\Users\\flori\\AppData\\Roaming\\nltk_data...\n",
      "[nltk_data]   Package stopwords is already up-to-date!\n"
     ]
    },
    {
     "name": "stdout",
     "output_type": "stream",
     "text": [
      "['subscribe information submit stored used communicate interest commercial uav news', 'understand use store information please refer privacy policy', 'search commercial uav expo search commercial uav expo share week ’ “ around commercial drone industry ” news round-up looks drone news summer olympics paris', 'successful counter-drone operations use uavs spy athletic opponents deployment drones help train swimmers uncrewed systems making mark 2024 games', 'cbs news reported “ 50 drones intercepted french law enforcement agencies ” since 2024 paris olympics began', 'according sources drones intercepted “ rogue ” nature', 'instead french officials said “ many simply people breaking regulations high could fly flying drones rough weather potentially putting people risk. ” counter drone efforts part massive public safety effort part french government', 'according cbs report “ france mobilized police military forces across country even drafted hundreds officers abroad help secure city scattered olympic venues', 'biggest security deployment opening ceremony july 26 45,000 local national police backed 18,000 military personnel converged paris surrounding region. ” first major scandal 2024 games canadian women ’ soccer team caught using drones spy opponent', \"goal report details athletic espionage stating scandal began drone flown “ training session new zealand women 's soccer team canada 's first opponent tournament ''\", 'story said “ resulted two members staff sent home head coach bev priestman suspended banned. ” rules violation caused canadian women ’ team suffer six-point deduction allowed play tournament', 'reporting suggests first time canadian soccer team used drones spy opponents', 'although commercial uav news focuses drones fly could resist reporting innovative use aquatic drones help train athletes', 'specifically drones used enhance “ training performance analysis ” swimmers games', 'video posted zengit shows uncrewed systems transforming swimming training “ providing detailed video analysis real-time feedback enhanced safety. ” check related scott howe editorial analyst commercial uav news', 'writer editor 35 years experience working fields higher education healthcare finance insurance', 'native massachusetts currently lives portland maine', 'subscribe weekly global newsletter news insight market information commercial drones', 'subscribe free reports focused commercial drone industry view reports september 2-4 2025 • las vegas commercial uav expo february 10-12 2025 • denver geo week 8-10 april 2025 • rai amsterdam commercial uav expo europe diversified communications technology portfolio']\n"
     ]
    },
    {
     "name": "stderr",
     "output_type": "stream",
     "text": [
      "[nltk_data] Downloading package punkt to\n",
      "[nltk_data]     C:\\Users\\flori\\AppData\\Roaming\\nltk_data...\n",
      "[nltk_data]   Package punkt is already up-to-date!\n",
      "[nltk_data] Downloading package stopwords to\n",
      "[nltk_data]     C:\\Users\\flori\\AppData\\Roaming\\nltk_data...\n",
      "[nltk_data]   Package stopwords is already up-to-date!\n"
     ]
    },
    {
     "name": "stdout",
     "output_type": "stream",
     "text": [
      "['print north korea friday accused south korea sending drones drop anti-regime leaflets pyongyang accusation seoul immediately denied', \"according state-run korean central news agency north korea 's foreign ministry said south korean drones entered pyongyang night three occasions since october 3 scattering `` numerous '' leaflets\", \"ministry called alleged incursion `` grave political military provocation '' requires retaliation warning situation could lead armed conflict even war\", 'south korea ’ military denied involvement stating send drones would investigate whether private groups may launched leaflets reported south ’ yonhap news agency', 'recent months north korea launched thousands trash-filled balloons south korea retaliation activists float anti-pyongyang leaflets northward across border', 'south korean activists recently employed advanced types balloons send leaflets north korea known reports using drones', \"leaflets often criticize north korea 's human rights abuses mock leader kim jong un sometimes accompanied valuable items like dollar bills usb drives\", 'north korea governed third-generation hereditary dictatorship views virtually outside information existential threat', 'past north korea used leaflets justification ramp cross-border tensions', 'north began sending waste-filled balloons south may analysts cautioned kim may preparing conduct serious cross-border confrontation', 'one particularly provocative move north korea late 2022 sent five small reconnaissance drones across border one making way northern edge capital seoul', 'response south korea ’ military said sent drone north korea reconnaissance mission', 'subsequent reports south korea ’ military flown drones north']\n"
     ]
    },
    {
     "name": "stderr",
     "output_type": "stream",
     "text": [
      "[nltk_data] Downloading package punkt to\n",
      "[nltk_data]     C:\\Users\\flori\\AppData\\Roaming\\nltk_data...\n",
      "[nltk_data]   Package punkt is already up-to-date!\n",
      "[nltk_data] Downloading package stopwords to\n",
      "[nltk_data]     C:\\Users\\flori\\AppData\\Roaming\\nltk_data...\n",
      "[nltk_data]   Package stopwords is already up-to-date!\n",
      "[nltk_data] Downloading package punkt to\n",
      "[nltk_data]     C:\\Users\\flori\\AppData\\Roaming\\nltk_data...\n",
      "[nltk_data]   Package punkt is already up-to-date!\n",
      "[nltk_data] Downloading package stopwords to\n",
      "[nltk_data]     C:\\Users\\flori\\AppData\\Roaming\\nltk_data...\n",
      "[nltk_data]   Package stopwords is already up-to-date!\n"
     ]
    },
    {
     "name": "stdout",
     "output_type": "stream",
     "text": [
      "[\"print yemen 's houthi rebels claimed shooting another u.s. military 's mq-9 reaper drones saturday airing footage parts corresponded known pieces unmanned aircraft\", 'houthis said shot predator surface-to-air missile part renewed series assaults week rebels relative lull pressure campaign israel-hamas war gaza strip', 'u.s. air force lt. col. bryon j. mcgarry defense department spokesperson acknowledged associated press saturday “ u.s. air force mq-9 drone crashed yemen. ” said investigation underway without elaborating', \"houthis described downing happening thursday stronghold country 's saada province\", \"footage released houthis included described missile launch targeting drone man off-camera reciting houthi 's slogan hit `` god greatest death america death israel curse jews victory islam ''\", 'footage included several close-ups parts drone included logo general atomics manufactures drone serial numbers corresponding known parts made company', \"since houthis seized country ’ north capital sanaa 2014 u.s. military lost least five drones rebels counting thursday 's shootdown — 2017 2019 2023 year\", 'reapers cost around 30 million apiece fly altitudes 50,000 feet endurance 24 hours needing land', 'drone shootdown comes houthis launch attacks shipping red sea gulf aden demanding israel ends war gaza hamas-controlled health ministry says killed 34,000 palestinians', 'war began hamas-led militants attacked israel october 7 killing 1,200 people taking 250 others hostage', 'houthis launched 50 attacks shipping seized one vessel sank another since november according u.s. maritime administration', 'houthi attacks dropped recent weeks rebels targeted u.s.-led airstrike campaign yemen', 'shipping red sea gulf aden declined threat', 'american officials speculated rebels may running weapons u.s.-led campaign firing drones missiles steadily last months', 'however rebels renewed attacks last week']\n",
      "['sun fades hills donbas region', 'driver turns lights accelerates travels — almost memory — potholed road position team launch drones russian troops', 'work night', 'full moon illuminates road also vehicle', 'little balls fire stitch sky', 'bakhmut front eastern ukraine artillery thunders bombs hum', '“ hit us ’ see — ’ feel ” annya muses adjusting helmet', 'soldier companion yaroslav get car ’ still moving', 'cross frozen mud enter basement unpack materials', '’ ground zero fighting grinded foot foot', 'yaroslav takes one drones hooks projectile', 'one could blow tank', '“ russians seek hunt us see', 'reach ” says', 'russian soldiers less mile position ochi “ eyes ” brigade operates drones', 'area extremely dangerous car left unattended', 'yuri — group ’ driver burly military veteran donbas war — pick companions first light day breaks', 'yaroslav strokes sharp straw-colored beard lifts head cellar clutching one devices', 'annya sips energy drink checks coordinates laptop screen russian positions revealed', 'night long', 'battle intense', 'lack ammunition — ukrainian army ’ dependence western aid — combat drones become crucial', 'fierce fight put soviet-made tanks artillery along sharp defenses quagmires developed techniques typical 20th century warfare increasingly becoming battle drones', 'russia ukraine use light affordable unmanned aerial vehicles “ adapt military needs ” explains marina miron researcher department war studies king ’ college london', '“ reality battlefield created need met quickly enough military industry ” expert adds', 'drones electronic warfare proliferated', 'previously ochi brigade operated day mainly utilized civilian reconnaissance drones chinese-made dji mavic quadcopters', 'equipped good cameras detect russian positions subsequently targeted artillery brigades', 'however drone operators want work night explains yaroslav following rules ukrainian military soldiers ’ reveal surnames', 'even less villages surrounding bakhmut fortress city ended falling russian hands last summer bloodiest urban battle war', 'still brigade reformed began work dark', 'little little also introduced drones adapted attack quadcopter aircraft renovated launch projectiles grenades hit targets like kamikazes', '“ ’ us ” annya shrugs', 'team also manages first-person view fpv drones manageable fast relatively cheap', 'projectiles attached harnesses zip ties soldiers manufacture 3d printer', 'time ochi drone brigade similar units finance spare parts materials pockets raising donations', 'damp basement illuminated light bulb yaroslav puts goggles wears operates fpv drone', '’ video game', 'war launched russia heading third year claimed tens thousands lives destroyed thousands homes created millions refugees blown global security framework', 'military drones key wars years', 'ukraine leleka-100 drones also used turkish-made bayraktar also provided ocean advantage azerbaijan war armenia nagorno-karabakh 2020', 'april may 2022 marina miron explains ukrainians began using smaller commercial drones surveillance reconnaissance', 'later adapted attack russian equipment personnel', 'kremlin caught “ quickly ” introduced iranian-made shaheds', 'armies employ drones solve battlefield tasks correct artillery fire overwhelm air defense systems', 'russia also uses swarm attacks combined missiles', 'drones adapted reconnaissance attacks 400 2,000 depending tactical ’ expected', 'cost also varies greatly russians', '“ iranian shahed 136 drone costs 20,000 kalibr missile russian-made costs 950,000', 'course shahed ’ cause level damage ” miron clarifies', 'military analyst mijailo samus “ definitely ” year combat drones', 'ukrainian army attack company deploys aircraft almost every brigade', 'operate technology eventually end becoming specific branch like ukrainian marine corps air forces samus notes', 'ukraine shown superior handling naval drones — used attack black sea fleet kerch bridge crimea — miron warns russia developed series “ countermeasures ” protect equipment deployed several electromagnetic warfare systems known ew shipovnik aero also uses shoot ukrainian drones', 'systems also impact drone ’ navigation communication pilot', 'kremlin advantage', 'kyiv working new project train 2,600 fpv drone pilots', 'samus notes next step integrate artificial intelligence make easier find tanks armored vehicles belonging enemy troops battlefield', '“ operator could use several drones time ” expert points', 'ochi brigade meanwhile looking third operator', 'moment schedule always sleep day manufacture material aircraft go position full speed rain artillery illuminates sunset operate drones basement', '’ thing night night', 'two years ago annya another life', 'soldier 34-year-old physiotherapist lived kyiv boyfriend', 'plans dreams', 'born raised donetsk region lived donbas war', 'russia accumulated troops along ukrainian borders joined territorial defense forces began receiving training', 'february 24 2022 russian president vladimir putin launched attacks ukraine land sea air annya boyfriend enlisted', 'russians killed last winter', 'changed brigades spring', 'operates bomb-carrying drones one toughest enclaves battle rockets mortars resound', '“ think contribute make difference ” says', 'next cables yaroslav 35-year-old father three children', 'full-scale invasion ran company kyiv', '’ quagmire donbas almost two years', 'finding increasingly difficult remain engaged civilian life', 'outside basement gray villages along bakhmut front ’ almost one left', 'chasiv yar — town 12,500 souls lived invasion — bombs heard', 'july kremlin attack destroyed palace culture served delivery point humanitarian aid', 'building mass rubble', 'one facades graffiti shows valerii zaluzhnyi commander-in-chief armed forces making “ v ” victory sign', 'russia ’ war ukraine become entrenched area', 'moscow ’ soldiers taken positions ukrainian troops recaptured spring', 'invaded country preparing long war fearing western support falter funds keep country afloat — pay weapons allow resist — stop arriving', 'kyiv trying increase domestic manufacturing weapons drones', 'according alexander kamyshin told el país', '’ ukraine ’ minister strategic industries', 'according calculations 2024 country able produce one million fpv drones 10,000 medium-range bomb-carrying drones — travel 350 500 miles — 1,000 long-range kamikaze drones reach 620 miles', '“ ground robotic systems also vital ” minister adds', '“ save lives replacing soldiers battlefield', 'functions demining medical evacuation logistics — dangerous — also carried robots. ” kamyshin also assures newspaper war ukraine become key global player type technology', '“ drones changing rules game war ” affirms', 'ochi brigade everything already changed', 'basement small generator hums recount better times ’ imagine dark quagmire middle snow launching drone strikes kremlin ’ forces', '“ russia wants erase nation end democracy', 'war us ” annya says', '“ ’ know europe ready ” yaroslav sighs “ putin advances ’ stay ukraine', 'many people like us many basements like this. ” sign weekly newsletter get english-language news coverage el país usa edition ¿quieres añadir otro usuario tu suscripción', 'si continúas leyendo en este dispositivo se podrá leer en el otro', '¿por qué estás viendo esto', 'si quieres compartir tu cuenta cambia tu suscripción la modalidad premium así podrás añadir otro usuario', 'cada uno accederá con su propia cuenta de email lo que os permitirá personalizar vuestra experiencia en el país', 'en el caso de saber quién está usando tu cuenta te recomendamos cambiar tu contraseña aquí', 'si decides continuar compartiendo tu cuenta este mensaje se mostrará en tu dispositivo en el de la otra persona que está usando tu cuenta de forma indefinida afectando tu experiencia de lectura', 'puedes consultar aquí los términos condiciones de la suscripción digital', 'suscríbete lee sin límites']\n",
      "['andy jehring published 21:35 bst 5 may 2024 updated 22:28 bst 5 may 2024 185 view comments france defending skies olympics summer revolutionary anti-drone system supposed moment national pride', 'series embarrassing testing failures chatter across channel french forced humiliating climbdown – called british', \"less three months go opening ceremony france bolster much-vaunted 'parade kit systems said include raf tech manpower\", \"french armed forces insisted mail 'not support requested uk ministry defence confirmed offered 'equipment personnel\", \"france 's satirical newspaper le canard enchaine said president emmanuel macron 'beg britain mocked government 'humiliation supreme\", \"france called british help defend skies ahead summer paris olympics france 's satirical newspaper le canard enchaine said president emmanuel macron 'beg britain mocked government 'humiliation supreme olympic opening ceremony take place along seine may vulnerable drone attacks snipers officials fear less three months go opening ceremony france bolster much-vaunted 'parade kit systems said include raf tech manpower\", \"pictured raf typhoon jet parade system french defence procurement agency 's tender develop anti-drone system 2022 cost €350 million\", 'detect threats jam immobilise', 'also allow police drones capture devices nets shoot drones directly – though last resort debris kill injure ground', \"'it 's annoying coming publicly unfortunately contrary official line things n't really working 'd like senior security source told afp news agency last month\", \"le canard reports french air force 'threatening send back six parade systems received without paying\", 'opening ceremony along seine rather stade de france river vulnerable drone attacks snipers officials fear', \"mod spokesman said 'we working across whitehall departments providing uk support security operation paris 2024 olympic paralympic games\", \"'our specialist search dog units assist venue security raf offer equipment personnel help counter potential unauthorised drones\", \"spokesman french armed forces ministry said bolster parade system insisted 'there support requested uk following results tests anti-drone system\", \"spokesman thales developed parade said system – based 'advanced processing algorithms – 'demonstrated relevance 2023 rugby world cup\", \"added 'given stakes involved normal development algorithms fine-tuning sensors requiring effort time important thing ready olympic games 2024 system armed forces operators fully adopted\", \"said firm 'fully mobilised ensure system fully operational olympic games\", 'published associated newspapers ltd part daily mail mail sunday metro media group']\n"
     ]
    },
    {
     "name": "stderr",
     "output_type": "stream",
     "text": [
      "[nltk_data] Downloading package punkt to\n",
      "[nltk_data]     C:\\Users\\flori\\AppData\\Roaming\\nltk_data...\n",
      "[nltk_data]   Package punkt is already up-to-date!\n",
      "[nltk_data] Downloading package stopwords to\n",
      "[nltk_data]     C:\\Users\\flori\\AppData\\Roaming\\nltk_data...\n",
      "[nltk_data]   Package stopwords is already up-to-date!\n"
     ]
    }
   ],
   "source": [
    "with open(\"drones.txt\", \"r\") as f:\n",
    "    url_list = f.read().splitlines()\n",
    "\n",
    "\n",
    "for url in url_list:\n",
    "    response = requests.get(url)\n",
    "    if response.status_code == 200:\n",
    "        html_content = response.text  \n",
    "    else:\n",
    "        print(f\"Failed to retrieve {url}\")\n",
    "    html_content  \n",
    "    soup = BeautifulSoup(html_content, 'html.parser')\n",
    "    paragraphs = soup.find_all('p')\n",
    "    article_text = ' '.join([para.get_text() for para in paragraphs])\n",
    "\n",
    "    with open(f\"scraped_article_{clean_filename(url)}.txt\", \"w\") as f:\n",
    "        f.write(article_text)\n",
    "\n",
    "    nltk.download('punkt')\n",
    "    nltk.download('stopwords')\n",
    "\n",
    "    with open(f\"scraped_article_{clean_filename(url)}.txt\", \"r\") as f:\n",
    "        article_text = f.read()\n",
    "\n",
    "    sentences = sent_tokenize(article_text)\n",
    "\n",
    "    total_sentences = len(sentences)\n",
    "    num_sentences = int(max(1, int(total_sentences * 0.3))) #le nombre de phrases du résumé est égal à 30% du nombre de phrases de l'article\n",
    "\n",
    "    #Nettoyage des phrases\n",
    "    stop_words = set(stopwords.words('english'))\n",
    "    cleaned_sentences_nltk = []\n",
    "\n",
    "    for sentence in sentences:\n",
    "        words = word_tokenize(sentence.lower())\n",
    "        words = [word for word in words if word not in stop_words and word not in string.punctuation]\n",
    "        cleaned_sentences_nltk.append(' '.join(words))\n",
    "\n",
    "    print(cleaned_sentences_nltk)\n",
    "    cvect = CountVectorizer(ngram_range=(1,1), token_pattern='(?u)\\\\b\\\\w+\\\\b')\n",
    "    counts = cvect.fit_transform(cleaned_sentences_nltk)\n",
    "    normalized_counts = normalize(counts, norm='l1', axis=1)\n",
    "\n",
    "    tfidf = TfidfVectorizer(ngram_range=(1,1))\n",
    "    tfs = tfidf.fit_transform(cleaned_sentences_nltk)\n",
    "\n",
    "    sentence_scores = np.sum(tfs.toarray(), axis=1)\n",
    "\n",
    "    num_sentences = 10\n",
    "    top_sentence_indices = np.argsort(sentence_scores)[-num_sentences:]\n",
    "\n",
    "    # Sélection des phrases les plus importantes\n",
    "    summary = [sentences[i] for i in sorted(top_sentence_indices)]\n",
    "\n",
    "    \n",
    "    vectorizer = CountVectorizer().fit_transform(summary)\n",
    "    vectors = vectorizer.toarray()\n",
    "    cosine_matrix = cosine_similarity(vectors)\n",
    "\n",
    "    threshold = 0.7\n",
    "    redundant_sentences = set()\n",
    "\n",
    "    for i in range(len(cosine_matrix)):\n",
    "        for j in range(i + 1, len(cosine_matrix)):\n",
    "            if cosine_matrix[i][j] > threshold:\n",
    "                redundant_sentences.add(j)\n",
    "\n",
    "\n",
    "    filtered_summary = [sentence for idx, sentence in enumerate(summary) if idx not in redundant_sentences]\n",
    "    \n",
    "    with open(f\"summary_{clean_filename(url)}.txt\", \"w\") as f:\n",
    "        for sentence in filtered_summary:\n",
    "            f.write(sentence + \"\\n\")\n",
    "        f.close()"
   ]
  }
 ],
 "metadata": {
  "kernelspec": {
   "display_name": "jpn_dm",
   "language": "python",
   "name": "python3"
  },
  "language_info": {
   "codemirror_mode": {
    "name": "ipython",
    "version": 3
   },
   "file_extension": ".py",
   "mimetype": "text/x-python",
   "name": "python",
   "nbconvert_exporter": "python",
   "pygments_lexer": "ipython3",
   "version": "3.8.20"
  }
 },
 "nbformat": 4,
 "nbformat_minor": 2
}
